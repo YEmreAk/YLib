{
 "cells": [
  {
   "cell_type": "code",
   "execution_count": 2,
   "metadata": {},
   "outputs": [],
   "source": [
    "%matplotlib inline\n",
    "import matplotlib\n",
    "import seaborn as sns\n",
    "matplotlib.rcParams['savefig.dpi'] = 144"
   ]
  },
  {
   "cell_type": "code",
   "execution_count": 3,
   "metadata": {},
   "outputs": [],
   "source": [
    "from static_grader import grader"
   ]
  },
  {
   "cell_type": "markdown",
   "metadata": {},
   "source": [
    "# PW Miniproject\n",
    "## Introduction\n",
    "\n",
    "The objective of this miniproject is to exercise your ability to use basic Python data structures, define functions, and control program flow. We will be using these concepts to perform some fundamental data wrangling tasks such as joining data sets together, splitting data into groups, and aggregating data into summary statistics.\n",
    "**Please do not use `pandas` or `numpy` to answer these questions.**\n",
    "\n",
    "We will be working with medical data from the British NHS on prescription drugs. Since this is real data, it contains many ambiguities that we will need to confront in our analysis. This is commonplace in data science, and is one of the lessons you will learn in this miniproject."
   ]
  },
  {
   "cell_type": "markdown",
   "metadata": {},
   "source": [
    "## Downloading the data\n",
    "\n",
    "We first need to download the data we'll be using from Amazon S3:"
   ]
  },
  {
   "cell_type": "code",
   "execution_count": 4,
   "metadata": {},
   "outputs": [
    {
     "name": "stderr",
     "output_type": "stream",
     "text": [
      "mkdir: cannot create directory ‘pw-data’: File exists\n",
      "File ‘./pw-data/201701scripts_sample.json.gz’ already there; not retrieving.\n",
      "\n",
      "File ‘./pw-data/practices.json.gz’ already there; not retrieving.\n",
      "\n"
     ]
    }
   ],
   "source": [
    "%%bash\n",
    "mkdir pw-data\n",
    "wget http://dataincubator-wqu.s3.amazonaws.com/pwdata/201701scripts_sample.json.gz -nc -P ./pw-data\n",
    "wget http://dataincubator-wqu.s3.amazonaws.com/pwdata/practices.json.gz -nc -P ./pw-data"
   ]
  },
  {
   "cell_type": "markdown",
   "metadata": {},
   "source": [
    "## Loading the data\n",
    "\n",
    "The first step of the project is to read in the data. We will discuss reading and writing various kinds of files later in the course, but the code below should get you started."
   ]
  },
  {
   "cell_type": "code",
   "execution_count": 5,
   "metadata": {},
   "outputs": [],
   "source": [
    "import gzip\n",
    "import simplejson as json"
   ]
  },
  {
   "cell_type": "code",
   "execution_count": 6,
   "metadata": {},
   "outputs": [],
   "source": [
    "with gzip.open('./pw-data/201701scripts_sample.json.gz', 'rb') as f:\n",
    "    scripts = json.load(f)\n",
    "\n",
    "with gzip.open('./pw-data/practices.json.gz', 'rb') as f:\n",
    "    practices = json.load(f)"
   ]
  },
  {
   "cell_type": "markdown",
   "metadata": {},
   "source": [
    "This data set comes from Britain's National Health Service. The `scripts` variable is a list of prescriptions issued by NHS doctors. Each prescription is represented by a dictionary with various data fields: `'practice'`, `'bnf_code'`, `'bnf_name'`, `'quantity'`, `'items'`, `'nic'`, and `'act_cost'`. "
   ]
  },
  {
   "cell_type": "code",
   "execution_count": 7,
   "metadata": {},
   "outputs": [
    {
     "data": {
      "text/plain": [
       "[{'bnf_code': '0101010G0AAABAB',\n",
       "  'items': 2,\n",
       "  'practice': 'N81013',\n",
       "  'bnf_name': 'Co-Magaldrox_Susp 195mg/220mg/5ml S/F',\n",
       "  'nic': 5.98,\n",
       "  'act_cost': 5.56,\n",
       "  'quantity': 1000},\n",
       " {'bnf_code': '0101021B0AAAHAH',\n",
       "  'items': 1,\n",
       "  'practice': 'N81013',\n",
       "  'bnf_name': 'Alginate_Raft-Forming Oral Susp S/F',\n",
       "  'nic': 1.95,\n",
       "  'act_cost': 1.82,\n",
       "  'quantity': 500}]"
      ]
     },
     "execution_count": 7,
     "metadata": {},
     "output_type": "execute_result"
    }
   ],
   "source": [
    "scripts[:2]"
   ]
  },
  {
   "cell_type": "markdown",
   "metadata": {},
   "source": [
    "A [glossary of terms](http://webarchive.nationalarchives.gov.uk/20180328130852tf_/http://content.digital.nhs.uk/media/10686/Download-glossary-of-terms-for-GP-prescribing---presentation-level/pdf/PLP_Presentation_Level_Glossary_April_2015.pdf/) and [FAQ](http://webarchive.nationalarchives.gov.uk/20180328130852tf_/http://content.digital.nhs.uk/media/10048/FAQs-Practice-Level-Prescribingpdf/pdf/PLP_FAQs_April_2015.pdf/) is available from the NHS regarding the data. Below we supply a data dictionary briefly describing what these fields mean.\n",
    "\n",
    "| Data field |Description|\n",
    "|:----------:|-----------|\n",
    "|`'practice'`|Code designating the medical practice issuing the prescription|\n",
    "|`'bnf_code'`|British National Formulary drug code|\n",
    "|`'bnf_name'`|British National Formulary drug name|\n",
    "|`'quantity'`|Number of capsules/quantity of liquid/grams of powder prescribed|\n",
    "| `'items'`  |Number of refills (e.g. if `'quantity'` is 30 capsules, 3 `'items'` means 3 bottles of 30 capsules)|\n",
    "|  `'nic'`   |Net ingredient cost|\n",
    "|`'act_cost'`|Total cost including containers, fees, and discounts|"
   ]
  },
  {
   "cell_type": "markdown",
   "metadata": {},
   "source": [
    "The `practices` variable is a list of member medical practices of the NHS. Each practice is represented by a dictionary containing identifying information for the medical practice. Most of the data fields are self-explanatory. Notice the values in the `'code'` field of `practices` match the values in the `'practice'` field of `scripts`."
   ]
  },
  {
   "cell_type": "code",
   "execution_count": 8,
   "metadata": {},
   "outputs": [
    {
     "data": {
      "text/plain": [
       "[{'code': 'A81001',\n",
       "  'name': 'THE DENSHAM SURGERY',\n",
       "  'addr_1': 'THE HEALTH CENTRE',\n",
       "  'addr_2': 'LAWSON STREET',\n",
       "  'borough': 'STOCKTON ON TEES',\n",
       "  'village': 'CLEVELAND',\n",
       "  'post_code': 'TS18 1HU'},\n",
       " {'code': 'A81002',\n",
       "  'name': 'QUEENS PARK MEDICAL CENTRE',\n",
       "  'addr_1': 'QUEENS PARK MEDICAL CTR',\n",
       "  'addr_2': 'FARRER STREET',\n",
       "  'borough': 'STOCKTON ON TEES',\n",
       "  'village': 'CLEVELAND',\n",
       "  'post_code': 'TS18 2AW'}]"
      ]
     },
     "execution_count": 8,
     "metadata": {},
     "output_type": "execute_result"
    }
   ],
   "source": [
    "practices[:2]"
   ]
  },
  {
   "cell_type": "markdown",
   "metadata": {},
   "source": [
    "In the following questions we will ask you to explore this data set. You may need to combine pieces of the data set together in order to answer some questions. Not every element of the data set will be used in answering the questions."
   ]
  },
  {
   "cell_type": "markdown",
   "metadata": {},
   "source": [
    "## Question 1: summary_statistics\n",
    "\n",
    "Our beneficiary data (`scripts`) contains quantitative data on the number of items dispensed (`'items'`), the total quantity of item dispensed (`'quantity'`), the net cost of the ingredients (`'nic'`), and the actual cost to the patient (`'act_cost'`). Whenever working with a new data set, it can be useful to calculate summary statistics to develop a feeling for the volume and character of the data. This makes it easier to spot trends and significant features during further stages of analysis.\n",
    "\n",
    "Calculate the sum, mean, standard deviation, and quartile statistics for each of these quantities. Format your results for each quantity as a list: `[sum, mean, standard deviation, 1st quartile, median, 3rd quartile]`. We'll create a `tuple` with these lists for each quantity as a final result."
   ]
  },
  {
   "cell_type": "code",
   "execution_count": 9,
   "metadata": {},
   "outputs": [],
   "source": [
    "import math\n",
    "import statistics\n",
    "\n",
    "def grap_data(scripts, key):\n",
    "    return [script[key] for script in scripts]\n",
    "\n",
    "def standart_deviation(datas, avg):\n",
    "    nominator = 0\n",
    "    for data in datas:\n",
    "        nominator += (data - avg) ** 2\n",
    "    \n",
    "    return math.sqrt(nominator / len(datas))\n",
    "\n",
    "def median(datas, quartile = 2):\n",
    "    center = len(datas) // 2\n",
    "    \n",
    "    if quartile == 1:\n",
    "        center = center // 2\n",
    "    if quartile == 3:\n",
    "        center += center // 2\n",
    "    \n",
    "    datas = sorted(datas)\n",
    "    \n",
    "    if len(datas) % 2 == 0:\n",
    "        med = (datas[center - 1] + datas[center]) / 2\n",
    "    else:\n",
    "        med = datas[center]\n",
    "        \n",
    "    return med\n",
    "\n",
    "def describe(key):\n",
    "    \n",
    "    datas = grap_data(scripts, key)\n",
    "    \n",
    "    total = sum(datas)\n",
    "    avg = total / len(datas)\n",
    "    s = standart_deviation(datas, avg)\n",
    "   \n",
    "    med = median(datas)\n",
    "    q25 = median(datas, 1)\n",
    "    q75 = median(datas, 3)\n",
    "\n",
    "    return (total, avg, s, q25, med, q75)"
   ]
  },
  {
   "cell_type": "code",
   "execution_count": 10,
   "metadata": {},
   "outputs": [],
   "source": [
    "summary = [('items', describe('items')),\n",
    "           ('quantity', describe('quantity')),\n",
    "           ('nic', describe('nic')),\n",
    "           ('act_cost', describe('act_cost'))]"
   ]
  },
  {
   "cell_type": "code",
   "execution_count": 11,
   "metadata": {},
   "outputs": [
    {
     "name": "stdout",
     "output_type": "stream",
     "text": [
      "==================\n",
      "Your score:  1.0\n",
      "==================\n"
     ]
    }
   ],
   "source": [
    "grader.score.pw__summary_statistics(summary)"
   ]
  },
  {
   "cell_type": "markdown",
   "metadata": {},
   "source": [
    "## Question 2: most_common_item\n",
    "\n",
    "Often we are not interested only in how the data is distributed in our entire data set, but within particular groups -- for example, how many items of each drug (i.e. `'bnf_name'`) were prescribed? Calculate the total items prescribed for each `'bnf_name'`. What is the most commonly prescribed `'bnf_name'` in our data?\n",
    "\n",
    "To calculate this, we first need to split our data set into groups corresponding with the different values of `'bnf_name'`. Then we can sum the number of items dispensed within in each group. Finally we can find the largest sum.\n",
    "\n",
    "We'll use `'bnf_name'` to construct our groups. You should have *5619* unique values for `'bnf_name'`."
   ]
  },
  {
   "cell_type": "code",
   "execution_count": 12,
   "metadata": {},
   "outputs": [],
   "source": [
    "bnf_names = list(set([x[\"bnf_name\"] for x in scripts]))\n",
    "assert(len(bnf_names) == 5619)"
   ]
  },
  {
   "cell_type": "markdown",
   "metadata": {},
   "source": [
    "We want to construct \"groups\" identified by `'bnf_name'`, where each group is a collection of prescriptions (i.e. dictionaries from `scripts`). We'll construct a dictionary called `groups`, using `bnf_names` as the keys. We'll represent a group with a `list`, since we can easily append new members to the group. To split our `scripts` into groups by `'bnf_name'`, we should iterate over `scripts`, appending prescription dictionaries to each group as we encounter them."
   ]
  },
  {
   "cell_type": "code",
   "execution_count": 13,
   "metadata": {},
   "outputs": [],
   "source": [
    "groups = {name: [] for name in bnf_names}\n",
    "for script in scripts:\n",
    "    groups[script[\"bnf_name\"]].append(script)"
   ]
  },
  {
   "cell_type": "markdown",
   "metadata": {},
   "source": [
    "Now that we've constructed our groups we should sum up `'items'` in each group and find the `'bnf_name'` with the largest sum. The result, `max_item`, should have the form `[(bnf_name, item total)]`, e.g. `[('Foobar', 2000)]`."
   ]
  },
  {
   "cell_type": "code",
   "execution_count": 14,
   "metadata": {},
   "outputs": [],
   "source": [
    "max_item = [max([(name, sum([obj[\"items\"] for obj in groups[name]])) for name in groups], key=lambda x:x[1])]"
   ]
  },
  {
   "cell_type": "markdown",
   "metadata": {},
   "source": [
    "**TIP:** If you are getting an error from the grader below, please make sure your answer conforms to the correct format of `[(bnf_name, item total)]`."
   ]
  },
  {
   "cell_type": "code",
   "execution_count": 15,
   "metadata": {},
   "outputs": [
    {
     "name": "stdout",
     "output_type": "stream",
     "text": [
      "==================\n",
      "Error!\n",
      "You have been rate limited for exceeding the limit of 1 per 1 second.\n",
      "Please slow down your submission rate.\n",
      "==================\n"
     ]
    }
   ],
   "source": [
    "grader.score.pw__most_common_item(max_item)"
   ]
  },
  {
   "cell_type": "markdown",
   "metadata": {},
   "source": [
    "**Challenge:** Write a function that constructs groups as we did above. The function should accept a list of dictionaries (e.g. `scripts` or `practices`) and a tuple of fields to `groupby` (e.g. `('bnf_name')` or `('bnf_name', 'post_code')`) and returns a dictionary of groups. The following questions will require you to aggregate data in groups, so this could be a useful function for the rest of the miniproject."
   ]
  },
  {
   "cell_type": "code",
   "execution_count": 16,
   "metadata": {},
   "outputs": [],
   "source": [
    "def group_by_field(data, fields):\n",
    "    \n",
    "    def create_keys(data, field):\n",
    "        return set([x[field] for x in data])\n",
    "    \n",
    "    groups = {}\n",
    "    for field in fields:\n",
    "        group = {name: [] for name in create_keys(data, field)}\n",
    "        groups[field] = group\n",
    "\n",
    "    for x in data:\n",
    "        groups[field][x[field]].append(x)\n",
    "\n",
    "    return groups\n",
    "\n",
    "def get_max_item(groups, attribute):\n",
    "    max_items = []\n",
    "    for group in groups:\n",
    "        field = groups[group]\n",
    "        \n",
    "        sums = []\n",
    "        for name in field:\n",
    "            sums.append((name, sum([data[attribute] for data in field[name]])))\n",
    "        \n",
    "        max_items.append(max(sums, key=lambda x:x[1]))\n",
    "    \n",
    "    return max_items"
   ]
  },
  {
   "cell_type": "code",
   "execution_count": 17,
   "metadata": {},
   "outputs": [],
   "source": [
    "groups = group_by_field(scripts, ('bnf_name',))\n",
    "\n",
    "test_max_item = get_max_item(groups, \"items\")\n",
    "\n",
    "assert test_max_item == max_item"
   ]
  },
  {
   "cell_type": "markdown",
   "metadata": {},
   "source": [
    "## Question 3: postal_totals\n",
    "\n",
    "Our data set is broken up among different files. This is typical for tabular data to reduce redundancy. Each table typically contains data about a particular type of event, processes, or physical object. Data on prescriptions and medical practices are in separate files in our case. If we want to find the total items prescribed in each postal code, we will have to _join_ our prescription data (`scripts`) to our clinic data (`practices`).\n",
    "\n",
    "Find the total items prescribed in each postal code, representing the results as a list of tuples `(post code, total items prescribed)`. Sort your results ascending alphabetically by post code and take only results from the first 100 post codes. Only include post codes if there is at least one prescription from a practice in that post code.\n",
    "\n",
    "**NOTE:** Some practices have multiple postal codes associated with them. Use the alphabetically first postal code."
   ]
  },
  {
   "cell_type": "markdown",
   "metadata": {},
   "source": [
    "We can join `scripts` and `practices` based on the fact that `'practice'` in `scripts` matches `'code'` in `practices'`. However, we must first deal with the repeated values of `'code'` in `practices`. We want the alphabetically first postal codes."
   ]
  },
  {
   "cell_type": "code",
   "execution_count": 29,
   "metadata": {},
   "outputs": [],
   "source": [
    "practice_postal = {}\n",
    "\n",
    "for practice in practices:\n",
    "    if practice['code'] in practice_postal:\n",
    "        practice_postal[practice['code']] = sorted([ practice_postal[practice['code']], practice['post_code']])[0]\n",
    "    else:\n",
    "        practice_postal[practice['code']] = practice['post_code']"
   ]
  },
  {
   "cell_type": "markdown",
   "metadata": {},
   "source": [
    "**Challenge:** This is an aggregation of the practice data grouped by practice codes. Write an alternative implementation of the above cell using the `group_by_field` function you defined previously."
   ]
  },
  {
   "cell_type": "code",
   "execution_count": 19,
   "metadata": {},
   "outputs": [
    {
     "name": "stdout",
     "output_type": "stream",
     "text": [
      "HP21 8TR\n"
     ]
    }
   ],
   "source": [
    "# practice_postal = group_by_field(practices, (\"code\",))[\"code\"]\n",
    "print(practice_postal['K82019'])\n",
    "assert practice_postal['K82019'] == 'HP21 8TR'"
   ]
  },
  {
   "cell_type": "markdown",
   "metadata": {},
   "source": [
    "Now we can join `practice_postal` to `scripts`."
   ]
  },
  {
   "cell_type": "code",
   "execution_count": 20,
   "metadata": {},
   "outputs": [],
   "source": [
    "joined = scripts[:]\n",
    "for script in joined:\n",
    "    script['post_code'] = practice_postal[script['practice']]"
   ]
  },
  {
   "cell_type": "markdown",
   "metadata": {},
   "source": [
    "Finally we'll group the prescription dictionaries in `joined` by `'post_code'` and sum up the items prescribed in each group, as we did in the previous question."
   ]
  },
  {
   "cell_type": "code",
   "execution_count": 21,
   "metadata": {},
   "outputs": [],
   "source": [
    "items_by_post = {}\n",
    "\n",
    "for x in joined:\n",
    "    if x['post_code'] in items_by_post:\n",
    "        items_by_post[x['post_code']] += x['items']\n",
    "    else:\n",
    "        items_by_post[x['post_code']] = x['items']\n"
   ]
  },
  {
   "cell_type": "code",
   "execution_count": 22,
   "metadata": {},
   "outputs": [
    {
     "name": "stdout",
     "output_type": "stream",
     "text": [
      "==================\n",
      "Your score:  1.0\n",
      "==================\n",
      "110071\n"
     ]
    }
   ],
   "source": [
    "postal_totals = sorted([(item, items_by_post[item]) for item in items_by_post])[:100]\n",
    "grader.score.pw__postal_totals(postal_totals)\n",
    "print(items_by_post['SK11 6JL'])"
   ]
  },
  {
   "cell_type": "markdown",
   "metadata": {},
   "source": [
    "## Question 4: items_by_region\n",
    "\n",
    "Now we'll combine the techniques we've developed to answer a more complex question. Find the most commonly dispensed item in each postal code, representing the results as a list of tuples (`post_code`, `bnf_name`, amount dispensed as proportion of total). Sort your results ascending alphabetically by post code and take only results from the first 100 post codes.\n",
    "\n",
    "**NOTE:** We'll continue to use the `joined` variable we created before, where we've chosen the alphabetically first postal code for each practice. Additionally, some postal codes will have multiple `'bnf_name'` with the same number of items prescribed for the maximum. In this case, we'll take the alphabetically first `'bnf_name'`."
   ]
  },
  {
   "cell_type": "markdown",
   "metadata": {},
   "source": [
    "Now we need to calculate the total items of each `'bnf_name'` prescribed in each `'post_code'`. Use the techniques we developed in the previous questions to calculate these totals. You should have 141196 `('post_code', 'bnf_name')` groups."
   ]
  },
  {
   "cell_type": "code",
   "execution_count": 23,
   "metadata": {},
   "outputs": [],
   "source": [
    "total_items_by_bnf_post = list(set([(x['post_code'], x['bnf_name']) for x in joined]))\n",
    "assert len(total_items_by_bnf_post) == 141196\n"
   ]
  },
  {
   "cell_type": "markdown",
   "metadata": {},
   "source": [
    "Let's use `total_by_item_post` to find the maximum item total for each postal code. To do this, we will want to regroup `total_by_item_post` by `'post_code'` only, not by `('post_code', 'bnf_name')`. First let's turn `total_by_item_post` into a list of dictionaries (similar to `scripts` or `practices`) and then group it by `'post_code'`. You should have 118 groups in `total_by_item_post` after grouping it by `'post_code'`."
   ]
  },
  {
   "cell_type": "code",
   "execution_count": 24,
   "metadata": {},
   "outputs": [],
   "source": [
    "total_items_by_post = items_by_post\n",
    "assert len(total_items_by_post) == 118"
   ]
  },
  {
   "cell_type": "markdown",
   "metadata": {},
   "source": [
    "Now we will aggregate the groups in `total_by_item_post` to create `max_item_by_post`. Some `'bnf_name'` have the same item total within a given postal code. Therefore, if more than one `'bnf_name'` has the maximum item total in a given postal code, we'll take the alphabetically first `'bnf_name'`. We can do this by [sorting](https://docs.python.org/2.7/howto/sorting.html) each group according to the item total and `'bnf_name'`."
   ]
  },
  {
   "cell_type": "code",
   "execution_count": 25,
   "metadata": {},
   "outputs": [],
   "source": [
    "max_item_by_post = ...\n"
   ]
  },
  {
   "cell_type": "markdown",
   "metadata": {},
   "source": [
    "In order to express the item totals as a proportion of the total amount of items prescribed across all `'bnf_name'` in a postal code, we'll need to use the total items prescribed that previously calculated as `items_by_post`. Calculate the proportions for the most common `'bnf_names'` for each postal code. Format your answer as a list of tuples: `[(post_code, bnf_name, total)]`"
   ]
  },
  {
   "cell_type": "code",
   "execution_count": 26,
   "metadata": {
    "scrolled": true
   },
   "outputs": [
    {
     "data": {
      "text/plain": [
       "[('B11 4BW', 'Salbutamol_Inha 100mcg (200 D) CFF', 0.03415082474725487),\n",
       " ('B18 7AL', 'Salbutamol_Inha 100mcg (200 D) CFF', 0.02926161780958897),\n",
       " ('B21 9RY', 'Metformin HCl_Tab 500mg', 0.03549462254750369),\n",
       " ('B23 6DJ', 'Lansoprazole_Cap 30mg (E/C Gran)', 0.024095900880968663),\n",
       " ('B70 7AW', 'Paracet_Tab 500mg', 0.0266896608360023),\n",
       " ('BB11 2DL', 'Omeprazole_Cap E/C 20mg', 0.02884503434625684),\n",
       " ('BB2 1AX', 'Omeprazole_Cap E/C 20mg', 0.03645501521908402),\n",
       " ('BB3 1PY', 'Omeprazole_Cap E/C 20mg', 0.03428477088454342),\n",
       " ('BB4 5SL', 'Omeprazole_Cap E/C 20mg', 0.040696883081529876),\n",
       " ('BB7 2JG', 'Omeprazole_Cap E/C 20mg', 0.029471795446899183),\n",
       " ('BB8 0JZ', 'Atorvastatin_Tab 20mg', 0.022563442442074293),\n",
       " ('BB9 7SR', 'Omeprazole_Cap E/C 20mg', 0.023833193804939305),\n",
       " ('BD3 8QH', 'Atorvastatin_Tab 40mg', 0.03422179914326511),\n",
       " ('BH18 8EE', 'Omeprazole_Cap E/C 20mg', 0.029000583563798747),\n",
       " ('BH23 3AF', 'Omeprazole_Cap E/C 20mg', 0.03733292364418497),\n",
       " ('BL1 8TU', 'Omeprazole_Cap E/C 20mg', 0.03095821215368131),\n",
       " ('BL3 5HP', 'Omeprazole_Cap E/C 20mg', 0.03359487236158692),\n",
       " ('BL9 0NJ', 'Omeprazole_Cap E/C 20mg', 0.033622356683924895),\n",
       " ('BL9 0SN', 'Omeprazole_Cap E/C 20mg', 0.03257264351523742),\n",
       " ('CB9 8HF', 'Omeprazole_Cap E/C 20mg', 0.03586107485828934),\n",
       " ('CH1 4DS', 'Lansoprazole_Cap 30mg (E/C Gran)', 0.026979808105398826),\n",
       " ('CH65 6TG', 'Lansoprazole_Cap 30mg (E/C Gran)', 0.027421283379832604),\n",
       " ('CT11 8AD', 'Omeprazole_Cap E/C 20mg', 0.02371612786870463),\n",
       " ('CV1 4FS', 'Omeprazole_Cap E/C 20mg', 0.02988443966675625),\n",
       " ('CW1 3AW', 'Omeprazole_Cap E/C 20mg', 0.03687757394234369),\n",
       " ('CW5 5NX', 'Omeprazole_Cap E/C 20mg', 0.036574992911823076),\n",
       " ('CW7 1AT', 'Omeprazole_Cap E/C 20mg', 0.038342136965990176),\n",
       " ('DA1 2HA', 'Omeprazole_Cap E/C 20mg', 0.020977948226270374),\n",
       " ('DA11 8BZ', 'Amoxicillin_Cap 500mg', 0.021502698215026983),\n",
       " ('DN22 7XF', 'Simvastatin_Tab 40mg', 0.019888143695899377),\n",
       " ('DN34 4GB', 'Omeprazole_Cap E/C 20mg', 0.03894778497490263),\n",
       " ('FY2 0JG', 'Omeprazole_Cap E/C 20mg', 0.03794959344888452),\n",
       " ('FY4 1TJ', 'Omeprazole_Cap E/C 20mg', 0.04512928155710333),\n",
       " ('FY5 2TZ', 'Omeprazole_Cap E/C 20mg', 0.037575127660535945),\n",
       " ('FY7 8GU', 'Omeprazole_Cap E/C 20mg', 0.03420067879209816),\n",
       " ('GL1 3PX', 'Omeprazole_Cap E/C 20mg', 0.027334732423924448),\n",
       " ('GL50 4DP', 'Omeprazole_Cap E/C 20mg', 0.02469861805351367),\n",
       " ('GU9 9QS', 'Omeprazole_Cap E/C 20mg', 0.028601661946406898),\n",
       " ('HA0 4UZ', 'Metformin HCl_Tab 500mg', 0.02961986376620523),\n",
       " ('HA3 7LT', 'Omeprazole_Cap E/C 20mg', 0.0265001712702021),\n",
       " ('HG1 5AR', 'Omeprazole_Cap E/C 20mg', 0.030014686084934523),\n",
       " ('HU7 4DW', 'Salbutamol_Inha 100mcg (200 D) CFF', 0.026594986458142424),\n",
       " ('KT14 6DH', 'Amlodipine_Tab 5mg', 0.01980716047537185),\n",
       " ('KT6 6EZ', 'Omeprazole_Cap E/C 20mg', 0.029557408595253368),\n",
       " ('L31 0DJ', 'Omeprazole_Cap E/C 20mg', 0.031093092156556992),\n",
       " ('L36 7XY', 'Salbutamol_Inha 100mcg (200 D) CFF', 0.0304811669932506),\n",
       " ('L5 0QW', 'Omeprazole_Cap E/C 20mg', 0.03383854757659264),\n",
       " ('L7 6HD', 'Salbutamol_Inha 100mcg (200 D) CFF', 0.026874016302943456),\n",
       " ('LA1 1PN', 'Omeprazole_Cap E/C 20mg', 0.03593535438892997),\n",
       " ('LE10 1DS', 'Aspirin Disper_Tab 75mg', 0.02211411776629168),\n",
       " ('LE18 2EW', 'Lansoprazole_Cap 15mg (E/C Gran)', 0.026545337066551798),\n",
       " ('LE5 3GH', 'Metformin HCl_Tab 500mg', 0.0354924268862986),\n",
       " ('LN2 2JP', 'Omeprazole_Cap E/C 20mg', 0.036189981157819504),\n",
       " ('LS9 9EF', 'Lansoprazole_Cap 30mg (E/C Gran)', 0.03184116875819442),\n",
       " ('M11 4EJ', 'Omeprazole_Cap E/C 20mg', 0.03207286540619874),\n",
       " ('M26 2SP', 'Omeprazole_Cap E/C 20mg', 0.04085582480513283),\n",
       " ('M30 0NU', 'Omeprazole_Cap E/C 20mg', 0.03824666953158573),\n",
       " ('M35 0AD', 'Omeprazole_Cap E/C 20mg', 0.03085140306122449),\n",
       " ('ME8 8AA', 'Omeprazole_Cap E/C 20mg', 0.02328067466444946),\n",
       " ('N9 7HD', 'Lansoprazole_Cap 30mg (E/C Gran)', 0.026281508499967434),\n",
       " ('NE10 9QG', 'Paracet_Tab 500mg', 0.044305701820370094),\n",
       " ('NE24 1DX', 'Paracet_Tab 500mg', 0.0320651205165277),\n",
       " ('NE37 2PU', 'Paracet_Tab 500mg', 0.02777391304347826),\n",
       " ('NE38 7NQ', 'Paracet_Tab 500mg', 0.031134594625305382),\n",
       " ('NG7 3GW', 'Paracet_Tab 500mg', 0.022318906091083737),\n",
       " ('NG7 5HY', 'Paracet_Tab 500mg', 0.02509737782596474),\n",
       " ('NN16 8DN', 'Omeprazole_Cap E/C 20mg', 0.03547300624372181),\n",
       " ('NW10 8RY', 'Metformin HCl_Tab 500mg', 0.030900570686215375),\n",
       " ('OL1 1NL', 'Omeprazole_Cap E/C 20mg', 0.033425912390975976),\n",
       " ('OL11 1DN', 'Omeprazole_Cap E/C 20mg', 0.032178791672462556),\n",
       " ('OL4 1YN', 'Omeprazole_Cap E/C 20mg', 0.02989427633977397),\n",
       " ('OL9 7AY', 'Omeprazole_Cap E/C 20mg', 0.03317602310347256),\n",
       " ('PL7 1AD', 'Omeprazole_Cap E/C 20mg', 0.03856973759050591),\n",
       " ('RM3 9SU', 'Salbutamol_Inha 100mcg (200 D) CFF', 0.027516093578269743),\n",
       " ('S63 9EH', 'Salbutamol_Inha 100mcg (200 D) CFF', 0.03003995745537126),\n",
       " ('S65 1DA', 'Influenza_Vac Inact 0.5ml Pfs', 0.023771326534882748),\n",
       " ('S74 9AF', 'Omeprazole_Cap E/C 20mg', 0.035946116987614136),\n",
       " ('SE1 6JP', 'Metformin HCl_Tab 500mg', 0.023339995558516544),\n",
       " ('SE15 5LJ', 'Metformin HCl_Tab 500mg', 0.02451173155066195),\n",
       " ('SK11 6JL', 'Omeprazole_Cap E/C 20mg', 0.029244760200234393),\n",
       " ('SK6 1ND', 'Lansoprazole_Cap 30mg (E/C Gran)', 0.019072510860735352),\n",
       " ('SM3 8EP', 'Omeprazole_Cap E/C 20mg', 0.02976166633286601),\n",
       " ('SM6 0HY', 'Omeprazole_Cap E/C 20mg', 0.03170636300417246),\n",
       " ('SR4 7XF', 'Paracet_Tab 500mg', 0.03414722227795277),\n",
       " ('SR5 2LT', 'Paracet_Tab 500mg', 0.03603964806771355),\n",
       " ('SS0 7AF', 'Omeprazole_Cap E/C 20mg', 0.02118781584681719),\n",
       " ('SS13 3HQ', 'Lansoprazole_Cap 30mg (E/C Gran)', 0.025575779606885986),\n",
       " ('SS8 0JA', 'Omeprazole_Cap E/C 20mg', 0.026893212353864944),\n",
       " ('SS9 5UU', 'Influvac Sub-Unit_Vac 0.5ml Pfs', 0.02536884460624641),\n",
       " ('ST1 4PB', 'Omeprazole_Cap E/C 20mg', 0.029595079869567012),\n",
       " ('ST3 6AB', 'Omeprazole_Cap E/C 20mg', 0.03128794729363132),\n",
       " ('ST8 6AG', 'Omeprazole_Cap E/C 20mg', 0.03963379302352532),\n",
       " ('TN24 0GP', 'Amoxicillin_Cap 500mg', 0.08493069890887643),\n",
       " ('TN34 1BA', 'Omeprazole_Cap E/C 20mg', 0.03102866779089376),\n",
       " ('TR1 2JA', 'Omeprazole_Cap E/C 20mg', 0.04630044285216699),\n",
       " ('TS1 2NX', 'Paracet_Tab 500mg', 0.027549713373789975),\n",
       " ('TS10 4NW', 'Paracet_Tab 500mg', 0.023228006465755853),\n",
       " ('TS17 0EE', 'Lansoprazole_Cap 30mg (E/C Gran)', 0.025048254079663098),\n",
       " ('TS23 2DG', 'Paracet_Tab 500mg', 0.025532452758642483),\n",
       " ('TS24 7PW', 'Paracet_Tab 500mg', 0.03858642431322693)]"
      ]
     },
     "execution_count": 26,
     "metadata": {},
     "output_type": "execute_result"
    }
   ],
   "source": [
    "post_bnf = sorted(set([(x['post_code'], x['bnf_name']) for x in joined]))\n",
    "\n",
    "pb_dict = {pb[0]: {pb[1]: 0} for pb in post_bnf}\n",
    "\n",
    "for x in joined:\n",
    "    if x['bnf_name'] in pb_dict[x['post_code']]:\n",
    "        pb_dict[x['post_code']][x['bnf_name']] += x['items']\n",
    "    else:\n",
    "        pb_dict[x['post_code']][x['bnf_name']] = x['items']\n",
    "        \n",
    "items_by_region = []\n",
    "for p in pb_dict:\n",
    "    max_bnf_item = (\"\", 0)\n",
    "    for b in pb_dict[p]:\n",
    "        pb_dict[p][b] = pb_dict[p][b] / items_by_post[p]\n",
    "        \n",
    "        if pb_dict[p][b] > max_bnf_item[1]:\n",
    "            max_bnf_item = b, pb_dict[p][b]\n",
    "            \n",
    "    items_by_region.append((p, max_bnf_item[0], max_bnf_item[1]))\n",
    "\n",
    "    \n",
    "items_by_region = items_by_region[:100]\n",
    "        \n",
    "# items_by_region = [('B11 4BW', 'Salbutamol_Inha 100mcg (200 D) CFF', 0.0341508247)] * 100\n",
    "items_by_region"
   ]
  },
  {
   "cell_type": "code",
   "execution_count": 27,
   "metadata": {},
   "outputs": [
    {
     "name": "stdout",
     "output_type": "stream",
     "text": [
      "==================\n",
      "Your score:  1.0\n",
      "==================\n"
     ]
    }
   ],
   "source": [
    "grader.score.pw__items_by_region(items_by_region)"
   ]
  },
  {
   "cell_type": "markdown",
   "metadata": {},
   "source": [
    "*Copyright &copy; 2017 The Data Incubator.  All rights reserved.*"
   ]
  }
 ],
 "metadata": {
  "kernelspec": {
   "display_name": "Python 3",
   "language": "python",
   "name": "python3"
  },
  "language_info": {
   "codemirror_mode": {
    "name": "ipython",
    "version": 3
   },
   "file_extension": ".py",
   "mimetype": "text/x-python",
   "name": "python",
   "nbconvert_exporter": "python",
   "pygments_lexer": "ipython3",
   "version": "3.6.2"
  },
  "nbclean": true
 },
 "nbformat": 4,
 "nbformat_minor": 1
}
